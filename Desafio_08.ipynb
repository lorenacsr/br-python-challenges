{
  "cells": [
    {
      "cell_type": "markdown",
      "metadata": {
        "id": "view-in-github",
        "colab_type": "text"
      },
      "source": [
        "<a href=\"https://colab.research.google.com/github/lorenacsr/br-python-challenges/blob/master/Desafio_08.ipynb\" target=\"_parent\"><img src=\"https://colab.research.google.com/assets/colab-badge.svg\" alt=\"Open In Colab\"/></a>"
      ]
    },
    {
      "cell_type": "markdown",
      "metadata": {
        "id": "o3tkeMDNf6Jo"
      },
      "source": [
        "### Desafio 8\n",
        "\n",
        "Escreva um script Python para encontrar as 10 palavras mais longas em um arquivo de texto.\n",
        "O arquivo .txt está localizado na mesma pasta do projeto (**texto.txt**)."
      ]
    },
    {
      "cell_type": "code",
      "source": [
        "from operator import itemgetter \n",
        "with open('texto.txt', 'r') as f: #r de read(leitura)\n",
        "    dic = {}   \n",
        "    conteudo = f.read().replace('.', ' ').replace('-', ' ').replace(',', ' ').replace(')', ' ') #substituí 4 caracteres por espaço.\n",
        "    for palavra in conteudo.split(): #Dividindo as strings e criando looping\n",
        "        dic[f'{palavra}'] = len(palavra) # Inseri a função criada no dic com format | Solicitei leitura de comprimento com \"len()\" | []= é o índice e () é o conteúdo\n",
        "        ordem = sorted(dic.items(), key=itemgetter(1), reverse=True) # sorted() = ordenação + .items() = dos itens inclusos no dic | key=itemgetter(n)-> somente uma coluna, 1 variável | reverse=\"true\" por querer descendente\n",
        "    for k, v in enumerate(ordem): # lopping for onde k é o índice e v a variável em que chamei a função enumerate() para \"ordem\"(criada anteriormente) que gera chave numérica.\n",
        "        if k < 10: # condição de considerar as palavras no índice menor que 10\n",
        "            print(v[0],v[1])"
      ],
      "metadata": {
        "id": "LYQu7sYaerBN"
      },
      "execution_count": null,
      "outputs": []
    }
  ],
  "metadata": {
    "anaconda-cloud": {},
    "colab": {
      "name": "Desafio 8.ipynb",
      "provenance": [],
      "include_colab_link": true
    },
    "kernelspec": {
      "display_name": "Python 3",
      "language": "python",
      "name": "python3"
    },
    "language_info": {
      "codemirror_mode": {
        "name": "ipython",
        "version": 3
      },
      "file_extension": ".py",
      "mimetype": "text/x-python",
      "name": "python",
      "nbconvert_exporter": "python",
      "pygments_lexer": "ipython3",
      "version": "3.8.8"
    }
  },
  "nbformat": 4,
  "nbformat_minor": 0
}