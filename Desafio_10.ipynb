{
  "cells": [
    {
      "cell_type": "markdown",
      "metadata": {
        "id": "view-in-github",
        "colab_type": "text"
      },
      "source": [
        "<a href=\"https://colab.research.google.com/github/lorenacsr/br-python-challenges/blob/master/Desafio_10.ipynb\" target=\"_parent\"><img src=\"https://colab.research.google.com/assets/colab-badge.svg\" alt=\"Open In Colab\"/></a>"
      ]
    },
    {
      "cell_type": "markdown",
      "metadata": {
        "id": "a4-FLDRof6Jv"
      },
      "source": [
        "### Desafio 10\n",
        "\n",
        "Dada uma lista, divida-a em 3 partes iguais e reverta a ordem de cada lista.\n",
        "\n",
        "**Exemplo:** \n",
        "\n",
        "Entrada: \\\n",
        "sampleList = [11, 45, 8, 23, 14, 12, 78, 45, 89]\n",
        "\n",
        "Saída: \\\n",
        "Parte 1 [8, 45, 11] \\\n",
        "Parte 2 [12, 14, 23] \\\n",
        "Parte 3 [89, 45, 78] "
      ]
    },
    {
      "cell_type": "code",
      "execution_count": 4,
      "metadata": {
        "colab": {
          "base_uri": "https://localhost:8080/"
        },
        "id": "IJ70pUjnf6Jw",
        "outputId": "4291d956-6cdd-40b0-c9c1-93e4bbde5abf"
      },
      "outputs": [
        {
          "output_type": "stream",
          "name": "stdout",
          "text": [
            "Parte 1: [8, 45, 11]\n",
            "Parte 2: [12, 14, 23]\n",
            "Parte 3: [89, 45, 78]\n"
          ]
        }
      ],
      "source": [
        "sampleList = [11, 45, 8, 23, 14, 12, 78, 45, 89]\n",
        "parte1 = []\n",
        "parte2 = []\n",
        "parte3 = []\n",
        "qtde = len(sampleList) / 3 # dividi sampleList que gerou valor que deve ser igual para as 3 partes\n",
        "if qtde.is_integer(): # condição de .is_integer tipo Built-in para float em qtde que retorna se True\n",
        "  for elem in sampleList: #loop com for de sampleList em que cada elemento foi chamado de \"elem\"\n",
        "      if len(parte1) < qtde: # condição no loop para comprimento < qtde(repete para parte 2 e 3)\n",
        "          parte1.append(elem) #inserir em elem(repete para parte 2 e 3)\n",
        "          parte_1 = reversed(parte1)# reversed = trocar a ordem(repete para parte 2 e 3)\n",
        "      elif len(parte2) < qtde:\n",
        "          parte2.append(elem)\n",
        "          parte_2 = reversed(parte2)\n",
        "      else:\n",
        "          if len(parte3) < qtde:\n",
        "              parte3.append(elem)\n",
        "              parte_3 = reversed(parte3)\n",
        "  print(f'Parte 1: {list(parte_1)}' # mostra em format + converte parte_1 em lista(repete para parte_2 e 3)\n",
        "        f'\\nParte 2: {list(parte_2)}'\n",
        "        f'\\nParte 3: {list(parte_3)}')\n",
        "else:\n",
        "  print('A respectiva lista não pode ser dividida em 3 partes iguais!') # caso alguma parte não tenha o mesmo tamanho(>=qtde), vai retornar essa mensagem"
      ]
    }
  ],
  "metadata": {
    "anaconda-cloud": {},
    "colab": {
      "name": "Desafio 10.ipynb",
      "provenance": [],
      "include_colab_link": true
    },
    "kernelspec": {
      "display_name": "Python 3",
      "language": "python",
      "name": "python3"
    },
    "language_info": {
      "codemirror_mode": {
        "name": "ipython",
        "version": 3
      },
      "file_extension": ".py",
      "mimetype": "text/x-python",
      "name": "python",
      "nbconvert_exporter": "python",
      "pygments_lexer": "ipython3",
      "version": "3.7.9"
    }
  },
  "nbformat": 4,
  "nbformat_minor": 0
}