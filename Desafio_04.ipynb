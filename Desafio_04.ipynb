{
  "cells": [
    {
      "cell_type": "markdown",
      "metadata": {
        "id": "view-in-github",
        "colab_type": "text"
      },
      "source": [
        "<a href=\"https://colab.research.google.com/github/lorenacsr/br-python-challenges/blob/master/Desafio_04.ipynb\" target=\"_parent\"><img src=\"https://colab.research.google.com/assets/colab-badge.svg\" alt=\"Open In Colab\"/></a>"
      ]
    },
    {
      "cell_type": "markdown",
      "metadata": {
        "id": "dOqcKUYZf6JW"
      },
      "source": [
        "### Desafio 4\n",
        "\n",
        "Escreva uma função cuja entrada é uma string e a saída é outra string com as palavras em ordem inversa.\n",
        "\n",
        "Exemplo:\n",
        "\n",
        "inverte_texto(\"Python é legal\") ➞ \"legal é Python\""
      ]
    },
    {
      "cell_type": "code",
      "execution_count": 69,
      "metadata": {
        "id": "I5TInJDaf6JW",
        "colab": {
          "base_uri": "https://localhost:8080/"
        },
        "outputId": "9ce2206c-14de-4e3c-ce4f-0dd3c3a6edee"
      },
      "outputs": [
        {
          "name": "stdout",
          "output_type": "stream",
          "text": [
            "Digite sua frase: quero chocolate\n"
          ]
        }
      ],
      "source": [
        "frase=input('Digite sua frase: ')\n",
        "def inverter(frase):\n",
        "  lista = frase.split(' ')\n",
        "  lista.reverse()\n",
        "  inv_text = ' '.join(lista)\n",
        "  print(inv_text)"
      ]
    },
    {
      "cell_type": "code",
      "source": [
        "inverter(frase)"
      ],
      "metadata": {
        "colab": {
          "base_uri": "https://localhost:8080/"
        },
        "id": "iF4GEHz2SuVB",
        "outputId": "667e85a9-c51b-4f4b-fd39-81bef41e4c97"
      },
      "execution_count": 70,
      "outputs": [
        {
          "output_type": "stream",
          "name": "stdout",
          "text": [
            "chocolate quero\n"
          ]
        }
      ]
    },
    {
      "cell_type": "markdown",
      "source": [
        "######\"**.split()**\" separa a string, na qual o ponto de corte é o que está determinado dentro de seu parênteses e gera uma lista;\n",
        "######\"**.reverse()**\" inverte a ordem dos componentes da lista;\n",
        "######\"**.join()**\" realiza junção dos componentes da lista, na qual, o ponto de junção é declarado dentro de seu parênteses"
      ],
      "metadata": {
        "id": "Ng4WevShQ7nh"
      }
    }
  ],
  "metadata": {
    "anaconda-cloud": {},
    "colab": {
      "name": "Desafio 4.ipynb",
      "provenance": [],
      "include_colab_link": true
    },
    "kernelspec": {
      "display_name": "Python 3",
      "language": "python",
      "name": "python3"
    },
    "language_info": {
      "codemirror_mode": {
        "name": "ipython",
        "version": 3
      },
      "file_extension": ".py",
      "mimetype": "text/x-python",
      "name": "python",
      "nbconvert_exporter": "python",
      "pygments_lexer": "ipython3",
      "version": "3.7.9"
    }
  },
  "nbformat": 4,
  "nbformat_minor": 0
}